{
 "cells": [
  {
   "cell_type": "markdown",
   "metadata": {},
   "source": [
    "### 댓글 분석과 예측"
   ]
  },
  {
   "cell_type": "markdown",
   "metadata": {},
   "source": [
    "#### 분석 기법\n",
    "\n",
    "- 나이브 베이즈 - TFid, Multi\n",
    "- 감성분석 - Kosac and NB(nltk)\n",
    "- 라벨링 - Kosac 사전 이용"
   ]
  },
  {
   "cell_type": "markdown",
   "metadata": {},
   "source": [
    "#### 나이브 베이즈 \n",
    "- TfidfVectorizer : 토큰화\n",
    "- MultinomialNB : 나이브 베이즈 classify, predict"
   ]
  },
  {
   "cell_type": "code",
   "execution_count": 25,
   "metadata": {},
   "outputs": [
    {
     "data": {
      "text/plain": [
       "1922"
      ]
     },
     "execution_count": 25,
     "metadata": {},
     "output_type": "execute_result"
    }
   ],
   "source": [
    "# 데이터 로드\n",
    "article_df = pd.read_csv(\"tada_nb_comm_class.csv\")\n",
    "len(article_df)"
   ]
  },
  {
   "cell_type": "code",
   "execution_count": 26,
   "metadata": {},
   "outputs": [
    {
     "name": "stdout",
     "output_type": "stream",
     "text": [
      "<class 'pandas.core.frame.DataFrame'>\n",
      "RangeIndex: 1922 entries, 0 to 1921\n",
      "Data columns (total 7 columns):\n",
      " #   Column      Non-Null Count  Dtype  \n",
      "---  ------      --------------  -----  \n",
      " 0   _id         1144 non-null   object \n",
      " 1   title       1144 non-null   object \n",
      " 2   date        1144 non-null   object \n",
      " 3   youtube_id  1132 non-null   object \n",
      " 4   comment     1144 non-null   object \n",
      " 5   like_num    1144 non-null   object \n",
      " 6   class       1144 non-null   float64\n",
      "dtypes: float64(1), object(6)\n",
      "memory usage: 105.2+ KB\n"
     ]
    }
   ],
   "source": [
    "# 결측치 존재, class 선별 과정에서 공백 생김\n",
    "article_df.info()"
   ]
  },
  {
   "cell_type": "code",
   "execution_count": 27,
   "metadata": {},
   "outputs": [
    {
     "name": "stdout",
     "output_type": "stream",
     "text": [
      "<class 'pandas.core.frame.DataFrame'>\n",
      "Int64Index: 1132 entries, 0 to 1921\n",
      "Data columns (total 7 columns):\n",
      " #   Column      Non-Null Count  Dtype  \n",
      "---  ------      --------------  -----  \n",
      " 0   _id         1132 non-null   object \n",
      " 1   title       1132 non-null   object \n",
      " 2   date        1132 non-null   object \n",
      " 3   youtube_id  1132 non-null   object \n",
      " 4   comment     1132 non-null   object \n",
      " 5   like_num    1132 non-null   object \n",
      " 6   class       1132 non-null   float64\n",
      "dtypes: float64(1), object(6)\n",
      "memory usage: 70.8+ KB\n"
     ]
    }
   ],
   "source": [
    "# 결측치 제거\n",
    "article_df = article_df.dropna(axis=0, how='any')\n",
    "article_df.info()"
   ]
  },
  {
   "cell_type": "code",
   "execution_count": 28,
   "metadata": {},
   "outputs": [
    {
     "data": {
      "text/plain": [
       "871"
      ]
     },
     "execution_count": 28,
     "metadata": {},
     "output_type": "execute_result"
    }
   ],
   "source": [
    "# 중복제거1\n",
    "test_data = list(set(article_df.comment))\n",
    "len(test_data)"
   ]
  },
  {
   "cell_type": "code",
   "execution_count": 29,
   "metadata": {},
   "outputs": [
    {
     "data": {
      "text/plain": [
       "871"
      ]
     },
     "execution_count": 29,
     "metadata": {},
     "output_type": "execute_result"
    }
   ],
   "source": [
    "# 중복제거2, 감성 분석 라벨링 용\n",
    "test_data_rm_du = article_df.drop_duplicates(['comment'])\n",
    "len(test_data_rm_du)"
   ]
  },
  {
   "cell_type": "code",
   "execution_count": 30,
   "metadata": {},
   "outputs": [],
   "source": [
    "# train, test 분리. 클래스 비율 고려하지 않음.\n",
    "value_ =  np.random.rand(len(article_df)) < 0.9\n",
    "test = article_df[~value_]\n",
    "train = article_df[value_]\n",
    "len(test), len(train)\n",
    "test_data = list(test.comment)"
   ]
  },
  {
   "cell_type": "code",
   "execution_count": 31,
   "metadata": {},
   "outputs": [
    {
     "data": {
      "text/plain": [
       "(915, 102, 915, 102)"
      ]
     },
     "execution_count": 31,
     "metadata": {},
     "output_type": "execute_result"
    }
   ],
   "source": [
    "# 데이터 전처리 : 데이터 셋 분리\n",
    "X_train, X_test, y_train, y_test = train_test_split(\n",
    "train.comment, train['class'], test_size=0.1, random_state=1)\n",
    "len(X_train), len(X_test), len(y_train), len(y_test)"
   ]
  },
  {
   "cell_type": "code",
   "execution_count": 32,
   "metadata": {},
   "outputs": [],
   "source": [
    "# 모델 만들기\n",
    "clf = Pipeline([\n",
    "    ('vect', TfidfVectorizer()),\n",
    "    ('clf', MultinomialNB(alpha=0.1)),\n",
    "])"
   ]
  },
  {
   "cell_type": "code",
   "execution_count": 33,
   "metadata": {},
   "outputs": [],
   "source": [
    "# 학습\n",
    "model = clf.fit(X_train.values.astype(\"str\"), y_train)"
   ]
  },
  {
   "cell_type": "code",
   "execution_count": 34,
   "metadata": {},
   "outputs": [],
   "source": [
    "# 모델 성능 확인\n",
    "y_pred = model.predict(X_test)"
   ]
  },
  {
   "cell_type": "code",
   "execution_count": 35,
   "metadata": {},
   "outputs": [
    {
     "data": {
      "text/plain": [
       "([2.0, 3.0, 2.0, 1.0, 2.0], [2.0, 3.0, 2.0, 1.0, 2.0])"
      ]
     },
     "execution_count": 35,
     "metadata": {},
     "output_type": "execute_result"
    }
   ],
   "source": [
    "list(y_test[:5]), list(y_pred[:5])"
   ]
  },
  {
   "cell_type": "code",
   "execution_count": 36,
   "metadata": {},
   "outputs": [
    {
     "name": "stdout",
     "output_type": "stream",
     "text": [
      "             precision    recall  f1-score   support\n",
      "\n",
      "        1.0       0.65      0.59      0.62        29\n",
      "        2.0       0.73      0.83      0.77        52\n",
      "        3.0       0.65      0.52      0.58        21\n",
      "\n",
      "avg / total       0.69      0.70      0.69       102\n",
      "\n"
     ]
    }
   ],
   "source": [
    "print(classification_report(y_test, y_pred))"
   ]
  },
  {
   "cell_type": "markdown",
   "metadata": {},
   "source": [
    "#### 모델 사용하기"
   ]
  },
  {
   "cell_type": "code",
   "execution_count": 37,
   "metadata": {},
   "outputs": [],
   "source": [
    "categories = {\n",
    "    1: \"타다\",\n",
    "    2: \"택시\",\n",
    "    3: \"미분류\",\n",
    "\n",
    "}"
   ]
  },
  {
   "cell_type": "code",
   "execution_count": 38,
   "metadata": {},
   "outputs": [
    {
     "data": {
      "text/html": [
       "<div>\n",
       "<style scoped>\n",
       "    .dataframe tbody tr th:only-of-type {\n",
       "        vertical-align: middle;\n",
       "    }\n",
       "\n",
       "    .dataframe tbody tr th {\n",
       "        vertical-align: top;\n",
       "    }\n",
       "\n",
       "    .dataframe thead th {\n",
       "        text-align: right;\n",
       "    }\n",
       "</style>\n",
       "<table border=\"1\" class=\"dataframe\">\n",
       "  <thead>\n",
       "    <tr style=\"text-align: right;\">\n",
       "      <th></th>\n",
       "      <th>content</th>\n",
       "      <th>category_code</th>\n",
       "    </tr>\n",
       "  </thead>\n",
       "  <tbody>\n",
       "    <tr>\n",
       "      <th>0</th>\n",
       "      <td>타다 1500대인데 기사가 12000명 이면 차한대에 기사가 10명정도 라는 말인데...</td>\n",
       "      <td>2.0</td>\n",
       "    </tr>\n",
       "    <tr>\n",
       "      <th>1</th>\n",
       "      <td>회사택시하세요  모든것이보장되어있는데 왜타다를선택했나요 뻔히불법이고결과가이럴줄몰랐나요?</td>\n",
       "      <td>2.0</td>\n",
       "    </tr>\n",
       "    <tr>\n",
       "      <th>2</th>\n",
       "      <td>불법콜택시 타다  면허ㆍ자격증 갖고하면 될껄 꽁짜로 쳐묵을려니까 문제지   총량제 ...</td>\n",
       "      <td>2.0</td>\n",
       "    </tr>\n",
       "    <tr>\n",
       "      <th>3</th>\n",
       "      <td>타다 잘 망했다 ~~~  타다 만세</td>\n",
       "      <td>2.0</td>\n",
       "    </tr>\n",
       "    <tr>\n",
       "      <th>4</th>\n",
       "      <td>국회가 너무 늙었다..\\n\\n  🙆💬OMG!💨\\n  👕\\n  👖\\n👟👟</td>\n",
       "      <td>3.0</td>\n",
       "    </tr>\n",
       "    <tr>\n",
       "      <th>...</th>\n",
       "      <td>...</td>\n",
       "      <td>...</td>\n",
       "    </tr>\n",
       "    <tr>\n",
       "      <th>110</th>\n",
       "      <td>공산국가??타다 금지법????</td>\n",
       "      <td>1.0</td>\n",
       "    </tr>\n",
       "    <tr>\n",
       "      <th>111</th>\n",
       "      <td>타다 베이직은 종료하고. 공항이랑 프라이빗렌트 서비스는 합법이니 계속하겠는데요</td>\n",
       "      <td>1.0</td>\n",
       "    </tr>\n",
       "    <tr>\n",
       "      <th>112</th>\n",
       "      <td>모범택시 카카오택시 블랙택시 타세요</td>\n",
       "      <td>2.0</td>\n",
       "    </tr>\n",
       "    <tr>\n",
       "      <th>113</th>\n",
       "      <td>역시 엠비씨는 댓글부터  걸러야해 ㅋㅋㅋㅋㅋ</td>\n",
       "      <td>3.0</td>\n",
       "    </tr>\n",
       "    <tr>\n",
       "      <th>114</th>\n",
       "      <td>렌트카허가로택시처럼하는건불법입니다택시회사인수하여태두리안에서하면됄것을 왜저토록사회를어...</td>\n",
       "      <td>2.0</td>\n",
       "    </tr>\n",
       "  </tbody>\n",
       "</table>\n",
       "<p>115 rows × 2 columns</p>\n",
       "</div>"
      ],
      "text/plain": [
       "                                               content  category_code\n",
       "0    타다 1500대인데 기사가 12000명 이면 차한대에 기사가 10명정도 라는 말인데...            2.0\n",
       "1     회사택시하세요  모든것이보장되어있는데 왜타다를선택했나요 뻔히불법이고결과가이럴줄몰랐나요?            2.0\n",
       "2    불법콜택시 타다  면허ㆍ자격증 갖고하면 될껄 꽁짜로 쳐묵을려니까 문제지   총량제 ...            2.0\n",
       "3                                  타다 잘 망했다 ~~~  타다 만세            2.0\n",
       "4              국회가 너무 늙었다..\\n\\n  🙆💬OMG!💨\\n  👕\\n  👖\\n👟👟            3.0\n",
       "..                                                 ...            ...\n",
       "110                                   공산국가??타다 금지법????            1.0\n",
       "111        타다 베이직은 종료하고. 공항이랑 프라이빗렌트 서비스는 합법이니 계속하겠는데요            1.0\n",
       "112                                모범택시 카카오택시 블랙택시 타세요            2.0\n",
       "113                           역시 엠비씨는 댓글부터  걸러야해 ㅋㅋㅋㅋㅋ            3.0\n",
       "114  렌트카허가로택시처럼하는건불법입니다택시회사인수하여태두리안에서하면됄것을 왜저토록사회를어...            2.0\n",
       "\n",
       "[115 rows x 2 columns]"
      ]
     },
     "execution_count": 38,
     "metadata": {},
     "output_type": "execute_result"
    }
   ],
   "source": [
    "# test_data 적용\n",
    "datas = {\n",
    "    \"content\": test_data,\n",
    "    \"category_code\": model.predict(test_data),\n",
    "}\n",
    "df = pd.DataFrame(datas)\n",
    "df"
   ]
  },
  {
   "cell_type": "code",
   "execution_count": 39,
   "metadata": {},
   "outputs": [
    {
     "data": {
      "text/plain": [
       "0.43"
      ]
     },
     "execution_count": 39,
     "metadata": {},
     "output_type": "execute_result"
    }
   ],
   "source": [
    "round(max(model.predict_proba([test_data[1]])[0]), 2)"
   ]
  },
  {
   "cell_type": "code",
   "execution_count": 40,
   "metadata": {},
   "outputs": [
    {
     "data": {
      "text/html": [
       "<div>\n",
       "<style scoped>\n",
       "    .dataframe tbody tr th:only-of-type {\n",
       "        vertical-align: middle;\n",
       "    }\n",
       "\n",
       "    .dataframe tbody tr th {\n",
       "        vertical-align: top;\n",
       "    }\n",
       "\n",
       "    .dataframe thead th {\n",
       "        text-align: right;\n",
       "    }\n",
       "</style>\n",
       "<table border=\"1\" class=\"dataframe\">\n",
       "  <thead>\n",
       "    <tr style=\"text-align: right;\">\n",
       "      <th></th>\n",
       "      <th>content</th>\n",
       "      <th>category_code</th>\n",
       "      <th>category</th>\n",
       "      <th>proba</th>\n",
       "    </tr>\n",
       "  </thead>\n",
       "  <tbody>\n",
       "    <tr>\n",
       "      <th>0</th>\n",
       "      <td>타다 1500대인데 기사가 12000명 이면 차한대에 기사가 10명정도 라는 말인데...</td>\n",
       "      <td>2.0</td>\n",
       "      <td>택시</td>\n",
       "      <td>0.97</td>\n",
       "    </tr>\n",
       "    <tr>\n",
       "      <th>1</th>\n",
       "      <td>회사택시하세요  모든것이보장되어있는데 왜타다를선택했나요 뻔히불법이고결과가이럴줄몰랐나요?</td>\n",
       "      <td>2.0</td>\n",
       "      <td>택시</td>\n",
       "      <td>0.43</td>\n",
       "    </tr>\n",
       "    <tr>\n",
       "      <th>2</th>\n",
       "      <td>불법콜택시 타다  면허ㆍ자격증 갖고하면 될껄 꽁짜로 쳐묵을려니까 문제지   총량제 ...</td>\n",
       "      <td>2.0</td>\n",
       "      <td>택시</td>\n",
       "      <td>1.00</td>\n",
       "    </tr>\n",
       "    <tr>\n",
       "      <th>3</th>\n",
       "      <td>타다 잘 망했다 ~~~  타다 만세</td>\n",
       "      <td>2.0</td>\n",
       "      <td>택시</td>\n",
       "      <td>0.67</td>\n",
       "    </tr>\n",
       "    <tr>\n",
       "      <th>4</th>\n",
       "      <td>국회가 너무 늙었다..\\n\\n  🙆💬OMG!💨\\n  👕\\n  👖\\n👟👟</td>\n",
       "      <td>3.0</td>\n",
       "      <td>미분류</td>\n",
       "      <td>0.90</td>\n",
       "    </tr>\n",
       "    <tr>\n",
       "      <th>...</th>\n",
       "      <td>...</td>\n",
       "      <td>...</td>\n",
       "      <td>...</td>\n",
       "      <td>...</td>\n",
       "    </tr>\n",
       "    <tr>\n",
       "      <th>110</th>\n",
       "      <td>공산국가??타다 금지법????</td>\n",
       "      <td>1.0</td>\n",
       "      <td>타다</td>\n",
       "      <td>0.54</td>\n",
       "    </tr>\n",
       "    <tr>\n",
       "      <th>111</th>\n",
       "      <td>타다 베이직은 종료하고. 공항이랑 프라이빗렌트 서비스는 합법이니 계속하겠는데요</td>\n",
       "      <td>1.0</td>\n",
       "      <td>타다</td>\n",
       "      <td>0.97</td>\n",
       "    </tr>\n",
       "    <tr>\n",
       "      <th>112</th>\n",
       "      <td>모범택시 카카오택시 블랙택시 타세요</td>\n",
       "      <td>2.0</td>\n",
       "      <td>택시</td>\n",
       "      <td>0.93</td>\n",
       "    </tr>\n",
       "    <tr>\n",
       "      <th>113</th>\n",
       "      <td>역시 엠비씨는 댓글부터  걸러야해 ㅋㅋㅋㅋㅋ</td>\n",
       "      <td>3.0</td>\n",
       "      <td>미분류</td>\n",
       "      <td>0.95</td>\n",
       "    </tr>\n",
       "    <tr>\n",
       "      <th>114</th>\n",
       "      <td>렌트카허가로택시처럼하는건불법입니다택시회사인수하여태두리안에서하면됄것을 왜저토록사회를어...</td>\n",
       "      <td>2.0</td>\n",
       "      <td>택시</td>\n",
       "      <td>0.43</td>\n",
       "    </tr>\n",
       "  </tbody>\n",
       "</table>\n",
       "<p>115 rows × 4 columns</p>\n",
       "</div>"
      ],
      "text/plain": [
       "                                               content  category_code  \\\n",
       "0    타다 1500대인데 기사가 12000명 이면 차한대에 기사가 10명정도 라는 말인데...            2.0   \n",
       "1     회사택시하세요  모든것이보장되어있는데 왜타다를선택했나요 뻔히불법이고결과가이럴줄몰랐나요?            2.0   \n",
       "2    불법콜택시 타다  면허ㆍ자격증 갖고하면 될껄 꽁짜로 쳐묵을려니까 문제지   총량제 ...            2.0   \n",
       "3                                  타다 잘 망했다 ~~~  타다 만세            2.0   \n",
       "4              국회가 너무 늙었다..\\n\\n  🙆💬OMG!💨\\n  👕\\n  👖\\n👟👟            3.0   \n",
       "..                                                 ...            ...   \n",
       "110                                   공산국가??타다 금지법????            1.0   \n",
       "111        타다 베이직은 종료하고. 공항이랑 프라이빗렌트 서비스는 합법이니 계속하겠는데요            1.0   \n",
       "112                                모범택시 카카오택시 블랙택시 타세요            2.0   \n",
       "113                           역시 엠비씨는 댓글부터  걸러야해 ㅋㅋㅋㅋㅋ            3.0   \n",
       "114  렌트카허가로택시처럼하는건불법입니다택시회사인수하여태두리안에서하면됄것을 왜저토록사회를어...            2.0   \n",
       "\n",
       "    category  proba  \n",
       "0         택시   0.97  \n",
       "1         택시   0.43  \n",
       "2         택시   1.00  \n",
       "3         택시   0.67  \n",
       "4        미분류   0.90  \n",
       "..       ...    ...  \n",
       "110       타다   0.54  \n",
       "111       타다   0.97  \n",
       "112       택시   0.93  \n",
       "113      미분류   0.95  \n",
       "114       택시   0.43  \n",
       "\n",
       "[115 rows x 4 columns]"
      ]
     },
     "execution_count": 40,
     "metadata": {},
     "output_type": "execute_result"
    }
   ],
   "source": [
    "df[\"category\"] = df[\"category_code\"].apply(lambda data: categories[data])\n",
    "df[\"proba\"] = df[\"content\"].apply(\n",
    "    lambda data: round(max(model.predict_proba([data])[0]), 2) )\n",
    "df"
   ]
  },
  {
   "cell_type": "code",
   "execution_count": 41,
   "metadata": {},
   "outputs": [],
   "source": [
    "# 모델 저장\n",
    "pickle.dump(model, open(\"clf.pkl\", \"wb\"))"
   ]
  }
 ],
 "metadata": {
  "kernelspec": {
   "display_name": "Python 3",
   "language": "python",
   "name": "python3"
  },
  "language_info": {
   "codemirror_mode": {
    "name": "ipython",
    "version": 3
   },
   "file_extension": ".py",
   "mimetype": "text/x-python",
   "name": "python",
   "nbconvert_exporter": "python",
   "pygments_lexer": "ipython3",
   "version": "3.7.6"
  }
 },
 "nbformat": 4,
 "nbformat_minor": 4
}
