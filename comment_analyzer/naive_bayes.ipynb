{
 "cells": [
  {
   "cell_type": "markdown",
   "metadata": {},
   "source": [
    "### 나이브 베이즈 분류를 활용한 댓글 분석과 예측"
   ]
  },
  {
   "cell_type": "code",
   "execution_count": 1,
   "metadata": {},
   "outputs": [
    {
     "data": {
      "text/plain": [
       "1922"
      ]
     },
     "execution_count": 1,
     "metadata": {},
     "output_type": "execute_result"
    }
   ],
   "source": [
    "# 데이터 로드\n",
    "article_df = pd.read_csv(\"./comment_data.csv\")\n",
    "len(article_df)"
   ]
  },
  {
   "cell_type": "code",
   "execution_count": 2,
   "metadata": {},
   "outputs": [
    {
     "name": "stdout",
     "output_type": "stream",
     "text": [
      "<class 'pandas.core.frame.DataFrame'>\n",
      "RangeIndex: 1922 entries, 0 to 1921\n",
      "Data columns (total 7 columns):\n",
      " #   Column      Non-Null Count  Dtype  \n",
      "---  ------      --------------  -----  \n",
      " 0   _id         1144 non-null   object \n",
      " 1   title       1144 non-null   object \n",
      " 2   date        1144 non-null   object \n",
      " 3   youtube_id  1132 non-null   object \n",
      " 4   comment     1144 non-null   object \n",
      " 5   like_num    1144 non-null   object \n",
      " 6   class       1144 non-null   float64\n",
      "dtypes: float64(1), object(6)\n",
      "memory usage: 105.2+ KB\n"
     ]
    }
   ],
   "source": [
    "# 결측치 존재, class 선별 과정에서 공백 생김\n",
    "article_df.info()"
   ]
  },
  {
   "cell_type": "code",
   "execution_count": 3,
   "metadata": {},
   "outputs": [
    {
     "name": "stdout",
     "output_type": "stream",
     "text": [
      "<class 'pandas.core.frame.DataFrame'>\n",
      "Int64Index: 1132 entries, 0 to 1921\n",
      "Data columns (total 7 columns):\n",
      " #   Column      Non-Null Count  Dtype  \n",
      "---  ------      --------------  -----  \n",
      " 0   _id         1132 non-null   object \n",
      " 1   title       1132 non-null   object \n",
      " 2   date        1132 non-null   object \n",
      " 3   youtube_id  1132 non-null   object \n",
      " 4   comment     1132 non-null   object \n",
      " 5   like_num    1132 non-null   object \n",
      " 6   class       1132 non-null   float64\n",
      "dtypes: float64(1), object(6)\n",
      "memory usage: 70.8+ KB\n"
     ]
    }
   ],
   "source": [
    "# 결측치 제거\n",
    "article_df = article_df.dropna(axis=0, how='any')\n",
    "article_df.info()"
   ]
  },
  {
   "cell_type": "code",
   "execution_count": 4,
   "metadata": {},
   "outputs": [
    {
     "data": {
      "text/plain": [
       "871"
      ]
     },
     "execution_count": 4,
     "metadata": {},
     "output_type": "execute_result"
    }
   ],
   "source": [
    "# 중복제거1\n",
    "test_data = list(set(article_df.comment))\n",
    "len(test_data)"
   ]
  },
  {
   "cell_type": "code",
   "execution_count": 5,
   "metadata": {},
   "outputs": [
    {
     "data": {
      "text/plain": [
       "871"
      ]
     },
     "execution_count": 5,
     "metadata": {},
     "output_type": "execute_result"
    }
   ],
   "source": [
    "# 중복제거2, 감성 분석 라벨링 용\n",
    "test_data_rm_du = article_df.drop_duplicates(['comment'])\n",
    "len(test_data_rm_du)"
   ]
  },
  {
   "cell_type": "code",
   "execution_count": 6,
   "metadata": {},
   "outputs": [],
   "source": [
    "# train, test 분리.\n",
    "value_ =  np.random.rand(len(article_df)) < 0.9\n",
    "\n",
    "train = article_df[value_]\n",
    "test = article_df[~value_]"
   ]
  },
  {
   "cell_type": "code",
   "execution_count": 7,
   "metadata": {},
   "outputs": [
    {
     "data": {
      "text/plain": [
       "(1024, 108)"
      ]
     },
     "execution_count": 7,
     "metadata": {},
     "output_type": "execute_result"
    }
   ],
   "source": [
    "len(train), len(test)"
   ]
  },
  {
   "cell_type": "code",
   "execution_count": 8,
   "metadata": {},
   "outputs": [],
   "source": [
    "train_data = list(train.comment)"
   ]
  },
  {
   "cell_type": "code",
   "execution_count": 9,
   "metadata": {},
   "outputs": [
    {
     "data": {
      "text/plain": [
       "(921, 103, 921, 103)"
      ]
     },
     "execution_count": 9,
     "metadata": {},
     "output_type": "execute_result"
    }
   ],
   "source": [
    "# 데이터 전처리 : 데이터 셋 분리\n",
    "X_train, X_test, y_train, y_test = train_test_split(\n",
    "train.comment, train['class'], test_size=0.1, random_state=1)\n",
    "len(X_train), len(X_test), len(y_train), len(y_test)"
   ]
  },
  {
   "cell_type": "code",
   "execution_count": 11,
   "metadata": {},
   "outputs": [],
   "source": [
    "# 모델 만들기\n",
    "clf = Pipeline([\n",
    "    ('vect', TfidfVectorizer()),\n",
    "    ('clf', MultinomialNB(alpha=0.1)),\n",
    "])"
   ]
  },
  {
   "cell_type": "code",
   "execution_count": 12,
   "metadata": {},
   "outputs": [],
   "source": [
    "# 학습\n",
    "model = clf.fit(X_train.values.astype(\"str\"), y_train)"
   ]
  },
  {
   "cell_type": "code",
   "execution_count": 13,
   "metadata": {},
   "outputs": [],
   "source": [
    "# 모델 성능 확인\n",
    "y_pred = model.predict(X_test)"
   ]
  },
  {
   "cell_type": "code",
   "execution_count": 14,
   "metadata": {},
   "outputs": [
    {
     "data": {
      "text/plain": [
       "([3.0, 3.0, 2.0, 3.0, 2.0], [3.0, 3.0, 2.0, 2.0, 2.0])"
      ]
     },
     "execution_count": 14,
     "metadata": {},
     "output_type": "execute_result"
    }
   ],
   "source": [
    "list(y_test[:5]), list(y_pred[:5])"
   ]
  },
  {
   "cell_type": "code",
   "execution_count": 15,
   "metadata": {},
   "outputs": [
    {
     "name": "stdout",
     "output_type": "stream",
     "text": [
      "              precision    recall  f1-score   support\n",
      "\n",
      "         1.0       0.57      0.65      0.61        26\n",
      "         2.0       0.62      0.84      0.71        43\n",
      "         3.0       0.73      0.32      0.45        34\n",
      "\n",
      "    accuracy                           0.62       103\n",
      "   macro avg       0.64      0.60      0.59       103\n",
      "weighted avg       0.64      0.62      0.60       103\n",
      "\n"
     ]
    }
   ],
   "source": [
    "print(classification_report(y_test, y_pred))"
   ]
  },
  {
   "cell_type": "markdown",
   "metadata": {},
   "source": [
    "#### 모델 사용하기"
   ]
  },
  {
   "cell_type": "code",
   "execution_count": 16,
   "metadata": {},
   "outputs": [],
   "source": [
    "categories = {\n",
    "    1: \"타다\",\n",
    "    2: \"택시\",\n",
    "    3: \"미분류\",\n",
    "}"
   ]
  },
  {
   "cell_type": "code",
   "execution_count": 17,
   "metadata": {},
   "outputs": [
    {
     "data": {
      "text/html": [
       "<div>\n",
       "<style scoped>\n",
       "    .dataframe tbody tr th:only-of-type {\n",
       "        vertical-align: middle;\n",
       "    }\n",
       "\n",
       "    .dataframe tbody tr th {\n",
       "        vertical-align: top;\n",
       "    }\n",
       "\n",
       "    .dataframe thead th {\n",
       "        text-align: right;\n",
       "    }\n",
       "</style>\n",
       "<table border=\"1\" class=\"dataframe\">\n",
       "  <thead>\n",
       "    <tr style=\"text-align: right;\">\n",
       "      <th></th>\n",
       "      <th>content</th>\n",
       "      <th>category_code</th>\n",
       "    </tr>\n",
       "  </thead>\n",
       "  <tbody>\n",
       "    <tr>\n",
       "      <th>0</th>\n",
       "      <td>언론을장학한 정부 법도없는정부 여론몰이 선수 나라를홀난하게하는 정부</td>\n",
       "      <td>3.0</td>\n",
       "    </tr>\n",
       "    <tr>\n",
       "      <th>1</th>\n",
       "      <td>타다 운전자들 니들도 범법자들이여 불법영업으로 재용이 돈벌어다  주었쓰니 공벙인디 ...</td>\n",
       "      <td>2.0</td>\n",
       "    </tr>\n",
       "    <tr>\n",
       "      <th>2</th>\n",
       "      <td>채이배국토부는너만못해\\n상생안만들어서타다와협상\\n했겠냐생각좀하고살아라</td>\n",
       "      <td>2.0</td>\n",
       "    </tr>\n",
       "    <tr>\n",
       "      <th>3</th>\n",
       "      <td>진짜 미친......저렇게 해도 미쳐버린 국민들이 뽑아준다...회의는 뭐하러해!!!...</td>\n",
       "      <td>1.0</td>\n",
       "    </tr>\n",
       "    <tr>\n",
       "      <th>4</th>\n",
       "      <td>법 테두리 안에 살자 우리.</td>\n",
       "      <td>2.0</td>\n",
       "    </tr>\n",
       "    <tr>\n",
       "      <th>...</th>\n",
       "      <td>...</td>\n",
       "      <td>...</td>\n",
       "    </tr>\n",
       "    <tr>\n",
       "      <th>866</th>\n",
       "      <td>표결없이 위원장 마음대로 법사위가 운영된다는게\\n너무 어이상실이네요</td>\n",
       "      <td>1.0</td>\n",
       "    </tr>\n",
       "    <tr>\n",
       "      <th>867</th>\n",
       "      <td>타다는 불법 콜택시다!!!\\n면허구입후 합법적으로해라!!!\\n여상규 화이팅\\n타다게...</td>\n",
       "      <td>2.0</td>\n",
       "    </tr>\n",
       "    <tr>\n",
       "      <th>868</th>\n",
       "      <td>정부잘못도 없진 않지 예전에 택시수요 생각도 안해보고 번호판 ㅈㄴ뿌린것도 한몫하지\\...</td>\n",
       "      <td>3.0</td>\n",
       "    </tr>\n",
       "    <tr>\n",
       "      <th>869</th>\n",
       "      <td>프리랜서 아닌가</td>\n",
       "      <td>3.0</td>\n",
       "    </tr>\n",
       "    <tr>\n",
       "      <th>870</th>\n",
       "      <td>타다헛소리</td>\n",
       "      <td>2.0</td>\n",
       "    </tr>\n",
       "  </tbody>\n",
       "</table>\n",
       "<p>871 rows × 2 columns</p>\n",
       "</div>"
      ],
      "text/plain": [
       "                                               content  category_code\n",
       "0                언론을장학한 정부 법도없는정부 여론몰이 선수 나라를홀난하게하는 정부            3.0\n",
       "1    타다 운전자들 니들도 범법자들이여 불법영업으로 재용이 돈벌어다  주었쓰니 공벙인디 ...            2.0\n",
       "2               채이배국토부는너만못해\\n상생안만들어서타다와협상\\n했겠냐생각좀하고살아라            2.0\n",
       "3    진짜 미친......저렇게 해도 미쳐버린 국민들이 뽑아준다...회의는 뭐하러해!!!...            1.0\n",
       "4                                      법 테두리 안에 살자 우리.            2.0\n",
       "..                                                 ...            ...\n",
       "866              표결없이 위원장 마음대로 법사위가 운영된다는게\\n너무 어이상실이네요            1.0\n",
       "867  타다는 불법 콜택시다!!!\\n면허구입후 합법적으로해라!!!\\n여상규 화이팅\\n타다게...            2.0\n",
       "868  정부잘못도 없진 않지 예전에 택시수요 생각도 안해보고 번호판 ㅈㄴ뿌린것도 한몫하지\\...            3.0\n",
       "869                                           프리랜서 아닌가            3.0\n",
       "870                                              타다헛소리            2.0\n",
       "\n",
       "[871 rows x 2 columns]"
      ]
     },
     "execution_count": 17,
     "metadata": {},
     "output_type": "execute_result"
    }
   ],
   "source": [
    "# test_data 적용\n",
    "datas = {\n",
    "    \"content\": test_data,\n",
    "    \"category_code\": model.predict(test_data),\n",
    "}\n",
    "df = pd.DataFrame(datas)\n",
    "df"
   ]
  },
  {
   "cell_type": "code",
   "execution_count": 18,
   "metadata": {},
   "outputs": [
    {
     "data": {
      "text/plain": [
       "0.96"
      ]
     },
     "execution_count": 18,
     "metadata": {},
     "output_type": "execute_result"
    }
   ],
   "source": [
    "round(max(model.predict_proba([test_data[1]])[0]), 2)"
   ]
  },
  {
   "cell_type": "code",
   "execution_count": 19,
   "metadata": {},
   "outputs": [
    {
     "data": {
      "text/html": [
       "<div>\n",
       "<style scoped>\n",
       "    .dataframe tbody tr th:only-of-type {\n",
       "        vertical-align: middle;\n",
       "    }\n",
       "\n",
       "    .dataframe tbody tr th {\n",
       "        vertical-align: top;\n",
       "    }\n",
       "\n",
       "    .dataframe thead th {\n",
       "        text-align: right;\n",
       "    }\n",
       "</style>\n",
       "<table border=\"1\" class=\"dataframe\">\n",
       "  <thead>\n",
       "    <tr style=\"text-align: right;\">\n",
       "      <th></th>\n",
       "      <th>content</th>\n",
       "      <th>category_code</th>\n",
       "      <th>category</th>\n",
       "      <th>proba</th>\n",
       "    </tr>\n",
       "  </thead>\n",
       "  <tbody>\n",
       "    <tr>\n",
       "      <th>0</th>\n",
       "      <td>언론을장학한 정부 법도없는정부 여론몰이 선수 나라를홀난하게하는 정부</td>\n",
       "      <td>3.0</td>\n",
       "      <td>미분류</td>\n",
       "      <td>0.59</td>\n",
       "    </tr>\n",
       "    <tr>\n",
       "      <th>1</th>\n",
       "      <td>타다 운전자들 니들도 범법자들이여 불법영업으로 재용이 돈벌어다  주었쓰니 공벙인디 ...</td>\n",
       "      <td>2.0</td>\n",
       "      <td>택시</td>\n",
       "      <td>0.96</td>\n",
       "    </tr>\n",
       "    <tr>\n",
       "      <th>2</th>\n",
       "      <td>채이배국토부는너만못해\\n상생안만들어서타다와협상\\n했겠냐생각좀하고살아라</td>\n",
       "      <td>2.0</td>\n",
       "      <td>택시</td>\n",
       "      <td>0.92</td>\n",
       "    </tr>\n",
       "    <tr>\n",
       "      <th>3</th>\n",
       "      <td>진짜 미친......저렇게 해도 미쳐버린 국민들이 뽑아준다...회의는 뭐하러해!!!...</td>\n",
       "      <td>1.0</td>\n",
       "      <td>타다</td>\n",
       "      <td>0.98</td>\n",
       "    </tr>\n",
       "    <tr>\n",
       "      <th>4</th>\n",
       "      <td>법 테두리 안에 살자 우리.</td>\n",
       "      <td>2.0</td>\n",
       "      <td>택시</td>\n",
       "      <td>0.97</td>\n",
       "    </tr>\n",
       "    <tr>\n",
       "      <th>...</th>\n",
       "      <td>...</td>\n",
       "      <td>...</td>\n",
       "      <td>...</td>\n",
       "      <td>...</td>\n",
       "    </tr>\n",
       "    <tr>\n",
       "      <th>866</th>\n",
       "      <td>표결없이 위원장 마음대로 법사위가 운영된다는게\\n너무 어이상실이네요</td>\n",
       "      <td>1.0</td>\n",
       "      <td>타다</td>\n",
       "      <td>0.95</td>\n",
       "    </tr>\n",
       "    <tr>\n",
       "      <th>867</th>\n",
       "      <td>타다는 불법 콜택시다!!!\\n면허구입후 합법적으로해라!!!\\n여상규 화이팅\\n타다게...</td>\n",
       "      <td>2.0</td>\n",
       "      <td>택시</td>\n",
       "      <td>0.93</td>\n",
       "    </tr>\n",
       "    <tr>\n",
       "      <th>868</th>\n",
       "      <td>정부잘못도 없진 않지 예전에 택시수요 생각도 안해보고 번호판 ㅈㄴ뿌린것도 한몫하지\\...</td>\n",
       "      <td>3.0</td>\n",
       "      <td>미분류</td>\n",
       "      <td>0.97</td>\n",
       "    </tr>\n",
       "    <tr>\n",
       "      <th>869</th>\n",
       "      <td>프리랜서 아닌가</td>\n",
       "      <td>3.0</td>\n",
       "      <td>미분류</td>\n",
       "      <td>0.86</td>\n",
       "    </tr>\n",
       "    <tr>\n",
       "      <th>870</th>\n",
       "      <td>타다헛소리</td>\n",
       "      <td>2.0</td>\n",
       "      <td>택시</td>\n",
       "      <td>0.45</td>\n",
       "    </tr>\n",
       "  </tbody>\n",
       "</table>\n",
       "<p>871 rows × 4 columns</p>\n",
       "</div>"
      ],
      "text/plain": [
       "                                               content  category_code  \\\n",
       "0                언론을장학한 정부 법도없는정부 여론몰이 선수 나라를홀난하게하는 정부            3.0   \n",
       "1    타다 운전자들 니들도 범법자들이여 불법영업으로 재용이 돈벌어다  주었쓰니 공벙인디 ...            2.0   \n",
       "2               채이배국토부는너만못해\\n상생안만들어서타다와협상\\n했겠냐생각좀하고살아라            2.0   \n",
       "3    진짜 미친......저렇게 해도 미쳐버린 국민들이 뽑아준다...회의는 뭐하러해!!!...            1.0   \n",
       "4                                      법 테두리 안에 살자 우리.            2.0   \n",
       "..                                                 ...            ...   \n",
       "866              표결없이 위원장 마음대로 법사위가 운영된다는게\\n너무 어이상실이네요            1.0   \n",
       "867  타다는 불법 콜택시다!!!\\n면허구입후 합법적으로해라!!!\\n여상규 화이팅\\n타다게...            2.0   \n",
       "868  정부잘못도 없진 않지 예전에 택시수요 생각도 안해보고 번호판 ㅈㄴ뿌린것도 한몫하지\\...            3.0   \n",
       "869                                           프리랜서 아닌가            3.0   \n",
       "870                                              타다헛소리            2.0   \n",
       "\n",
       "    category  proba  \n",
       "0        미분류   0.59  \n",
       "1         택시   0.96  \n",
       "2         택시   0.92  \n",
       "3         타다   0.98  \n",
       "4         택시   0.97  \n",
       "..       ...    ...  \n",
       "866       타다   0.95  \n",
       "867       택시   0.93  \n",
       "868      미분류   0.97  \n",
       "869      미분류   0.86  \n",
       "870       택시   0.45  \n",
       "\n",
       "[871 rows x 4 columns]"
      ]
     },
     "execution_count": 19,
     "metadata": {},
     "output_type": "execute_result"
    }
   ],
   "source": [
    "df[\"category\"] = df[\"category_code\"].apply(lambda data: categories[data])\n",
    "df[\"proba\"] = df[\"content\"].apply(\n",
    "    lambda data: round(max(model.predict_proba([data])[0]), 2) )\n",
    "df"
   ]
  },
  {
   "cell_type": "code",
   "execution_count": 20,
   "metadata": {},
   "outputs": [],
   "source": [
    "# 모델 저장\n",
    "pickle.dump(model, open(\"clf.pkl\", \"wb\"))"
   ]
  },
  {
   "cell_type": "code",
   "execution_count": 23,
   "metadata": {},
   "outputs": [
    {
     "data": {
      "text/html": [
       "<div>\n",
       "<style scoped>\n",
       "    .dataframe tbody tr th:only-of-type {\n",
       "        vertical-align: middle;\n",
       "    }\n",
       "\n",
       "    .dataframe tbody tr th {\n",
       "        vertical-align: top;\n",
       "    }\n",
       "\n",
       "    .dataframe thead th {\n",
       "        text-align: right;\n",
       "    }\n",
       "</style>\n",
       "<table border=\"1\" class=\"dataframe\">\n",
       "  <thead>\n",
       "    <tr style=\"text-align: right;\">\n",
       "      <th></th>\n",
       "      <th>content</th>\n",
       "      <th>category_code</th>\n",
       "      <th>category</th>\n",
       "      <th>proba</th>\n",
       "    </tr>\n",
       "  </thead>\n",
       "  <tbody>\n",
       "    <tr>\n",
       "      <th>1</th>\n",
       "      <td>타다 운전자들 니들도 범법자들이여 불법영업으로 재용이 돈벌어다  주었쓰니 공벙인디 ...</td>\n",
       "      <td>2.0</td>\n",
       "      <td>택시</td>\n",
       "      <td>0.96</td>\n",
       "    </tr>\n",
       "    <tr>\n",
       "      <th>2</th>\n",
       "      <td>채이배국토부는너만못해\\n상생안만들어서타다와협상\\n했겠냐생각좀하고살아라</td>\n",
       "      <td>2.0</td>\n",
       "      <td>택시</td>\n",
       "      <td>0.92</td>\n",
       "    </tr>\n",
       "    <tr>\n",
       "      <th>3</th>\n",
       "      <td>진짜 미친......저렇게 해도 미쳐버린 국민들이 뽑아준다...회의는 뭐하러해!!!...</td>\n",
       "      <td>1.0</td>\n",
       "      <td>타다</td>\n",
       "      <td>0.98</td>\n",
       "    </tr>\n",
       "    <tr>\n",
       "      <th>4</th>\n",
       "      <td>법 테두리 안에 살자 우리.</td>\n",
       "      <td>2.0</td>\n",
       "      <td>택시</td>\n",
       "      <td>0.97</td>\n",
       "    </tr>\n",
       "    <tr>\n",
       "      <th>5</th>\n",
       "      <td>최소한 국민의 안전을 위해서라도 운송영업 면허가 있어야지. 어느나라가 무면허로 운송...</td>\n",
       "      <td>2.0</td>\n",
       "      <td>택시</td>\n",
       "      <td>0.99</td>\n",
       "    </tr>\n",
       "    <tr>\n",
       "      <th>...</th>\n",
       "      <td>...</td>\n",
       "      <td>...</td>\n",
       "      <td>...</td>\n",
       "      <td>...</td>\n",
       "    </tr>\n",
       "    <tr>\n",
       "      <th>865</th>\n",
       "      <td>입법문제인데 왜 행정권을 가진 대통령한테\\n도움요청하냐? 국회에서 해결할 문제다</td>\n",
       "      <td>2.0</td>\n",
       "      <td>택시</td>\n",
       "      <td>0.93</td>\n",
       "    </tr>\n",
       "    <tr>\n",
       "      <th>866</th>\n",
       "      <td>표결없이 위원장 마음대로 법사위가 운영된다는게\\n너무 어이상실이네요</td>\n",
       "      <td>1.0</td>\n",
       "      <td>타다</td>\n",
       "      <td>0.95</td>\n",
       "    </tr>\n",
       "    <tr>\n",
       "      <th>867</th>\n",
       "      <td>타다는 불법 콜택시다!!!\\n면허구입후 합법적으로해라!!!\\n여상규 화이팅\\n타다게...</td>\n",
       "      <td>2.0</td>\n",
       "      <td>택시</td>\n",
       "      <td>0.93</td>\n",
       "    </tr>\n",
       "    <tr>\n",
       "      <th>868</th>\n",
       "      <td>정부잘못도 없진 않지 예전에 택시수요 생각도 안해보고 번호판 ㅈㄴ뿌린것도 한몫하지\\...</td>\n",
       "      <td>3.0</td>\n",
       "      <td>미분류</td>\n",
       "      <td>0.97</td>\n",
       "    </tr>\n",
       "    <tr>\n",
       "      <th>869</th>\n",
       "      <td>프리랜서 아닌가</td>\n",
       "      <td>3.0</td>\n",
       "      <td>미분류</td>\n",
       "      <td>0.86</td>\n",
       "    </tr>\n",
       "  </tbody>\n",
       "</table>\n",
       "<p>703 rows × 4 columns</p>\n",
       "</div>"
      ],
      "text/plain": [
       "                                               content  category_code  \\\n",
       "1    타다 운전자들 니들도 범법자들이여 불법영업으로 재용이 돈벌어다  주었쓰니 공벙인디 ...            2.0   \n",
       "2               채이배국토부는너만못해\\n상생안만들어서타다와협상\\n했겠냐생각좀하고살아라            2.0   \n",
       "3    진짜 미친......저렇게 해도 미쳐버린 국민들이 뽑아준다...회의는 뭐하러해!!!...            1.0   \n",
       "4                                      법 테두리 안에 살자 우리.            2.0   \n",
       "5    최소한 국민의 안전을 위해서라도 운송영업 면허가 있어야지. 어느나라가 무면허로 운송...            2.0   \n",
       "..                                                 ...            ...   \n",
       "865       입법문제인데 왜 행정권을 가진 대통령한테\\n도움요청하냐? 국회에서 해결할 문제다            2.0   \n",
       "866              표결없이 위원장 마음대로 법사위가 운영된다는게\\n너무 어이상실이네요            1.0   \n",
       "867  타다는 불법 콜택시다!!!\\n면허구입후 합법적으로해라!!!\\n여상규 화이팅\\n타다게...            2.0   \n",
       "868  정부잘못도 없진 않지 예전에 택시수요 생각도 안해보고 번호판 ㅈㄴ뿌린것도 한몫하지\\...            3.0   \n",
       "869                                           프리랜서 아닌가            3.0   \n",
       "\n",
       "    category  proba  \n",
       "1         택시   0.96  \n",
       "2         택시   0.92  \n",
       "3         타다   0.98  \n",
       "4         택시   0.97  \n",
       "5         택시   0.99  \n",
       "..       ...    ...  \n",
       "865       택시   0.93  \n",
       "866       타다   0.95  \n",
       "867       택시   0.93  \n",
       "868      미분류   0.97  \n",
       "869      미분류   0.86  \n",
       "\n",
       "[703 rows x 4 columns]"
      ]
     },
     "execution_count": 23,
     "metadata": {},
     "output_type": "execute_result"
    }
   ],
   "source": [
    "# 870번째 댓글 빼고는 모두 85% 이상의 확률로 예측함을 확인\n",
    "df[df['proba'] > 0.85]"
   ]
  },
  {
   "cell_type": "code",
   "execution_count": null,
   "metadata": {},
   "outputs": [],
   "source": [
    "# 분류 결과 시각화"
   ]
  },
  {
   "cell_type": "code",
   "execution_count": 30,
   "metadata": {},
   "outputs": [
    {
     "data": {
      "text/html": [
       "<div>\n",
       "<style scoped>\n",
       "    .dataframe tbody tr th:only-of-type {\n",
       "        vertical-align: middle;\n",
       "    }\n",
       "\n",
       "    .dataframe tbody tr th {\n",
       "        vertical-align: top;\n",
       "    }\n",
       "\n",
       "    .dataframe thead th {\n",
       "        text-align: right;\n",
       "    }\n",
       "</style>\n",
       "<table border=\"1\" class=\"dataframe\">\n",
       "  <thead>\n",
       "    <tr style=\"text-align: right;\">\n",
       "      <th></th>\n",
       "      <th>category</th>\n",
       "    </tr>\n",
       "  </thead>\n",
       "  <tbody>\n",
       "    <tr>\n",
       "      <th>택시</th>\n",
       "      <td>392</td>\n",
       "    </tr>\n",
       "    <tr>\n",
       "      <th>타다</th>\n",
       "      <td>245</td>\n",
       "    </tr>\n",
       "    <tr>\n",
       "      <th>미분류</th>\n",
       "      <td>234</td>\n",
       "    </tr>\n",
       "  </tbody>\n",
       "</table>\n",
       "</div>"
      ],
      "text/plain": [
       "     category\n",
       "택시        392\n",
       "타다        245\n",
       "미분류       234"
      ]
     },
     "execution_count": 30,
     "metadata": {},
     "output_type": "execute_result"
    }
   ],
   "source": [
    "new_data = df['category'].value_counts()\n",
    "final = pd.DataFrame(new_data)\n",
    "final"
   ]
  },
  {
   "cell_type": "code",
   "execution_count": 32,
   "metadata": {},
   "outputs": [],
   "source": [
    "import chart_studio.plotly as py\n",
    "import cufflinks as cf \n",
    "cf.go_offline(connected=True)\n",
    "\n",
    "final.iplot(kind='bar')"
   ]
  },
  {
   "cell_type": "code",
   "execution_count": 33,
   "metadata": {},
   "outputs": [
    {
     "data": {
      "image/png": "[encoded data removed]",
      "text/plain": [
       "<PIL.PngImagePlugin.PngImageFile image mode=RGBA size=1970x1064 at 0x1A2C033510>"
      ]
     },
     "execution_count": 33,
     "metadata": {},
     "output_type": "execute_result"
    }
   ],
   "source": [
    "import PIL.Image as pilimg\n",
    "\n",
    "confirmedcases = pilimg.open('./naive.png')\n",
    "confirmedcases"
   ]
  }
 ],
 "metadata": {
  "kernelspec": {
   "display_name": "Python 3",
   "language": "python",
   "name": "python3"
  },
  "language_info": {
   "codemirror_mode": {
    "name": "ipython",
    "version": 3
   },
   "file_extension": ".py",
   "mimetype": "text/x-python",
   "name": "python",
   "nbconvert_exporter": "python",
   "pygments_lexer": "ipython3",
   "version": "3.7.6"
  }
 },
 "nbformat": 4,
 "nbformat_minor": 4
}
